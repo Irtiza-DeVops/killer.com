{
 "cells": [
  {
   "cell_type": "markdown",
   "metadata": {},
   "source": [
    "Question 1"
   ]
  },
  {
   "cell_type": "code",
   "execution_count": 6,
   "metadata": {},
   "outputs": [
    {
     "name": "stdout",
     "output_type": "stream",
     "text": [
      "irtiza\n",
      "Ahad\n",
      "hassan\n",
      "asif\n"
     ]
    }
   ],
   "source": [
    "name:list[str]=['irtiza', 'Ahad', 'hassan', 'asif']\n",
    "print(name[0])\n",
    "print(name[1])\n",
    "print(name[2])\n",
    "print(name[3])\n"
   ]
  },
  {
   "cell_type": "markdown",
   "metadata": {},
   "source": [
    "Question 2"
   ]
  },
  {
   "cell_type": "code",
   "execution_count": 7,
   "metadata": {},
   "outputs": [
    {
     "name": "stdout",
     "output_type": "stream",
     "text": [
      "maira name irtiza hai\n",
      "maira name Ahad hai\n",
      "maira name hassan hai\n",
      "maira name asif hai\n"
     ]
    }
   ],
   "source": [
    "names:list[str]=['irtiza','Ahad','hassan','asif']\n",
    "for name in names:\n",
    " print(f\"maira name {name} hai\")"
   ]
  },
  {
   "cell_type": "markdown",
   "metadata": {},
   "source": [
    "Question 3"
   ]
  },
  {
   "cell_type": "code",
   "execution_count": 8,
   "metadata": {},
   "outputs": [
    {
     "name": "stdout",
     "output_type": "stream",
     "text": [
      "I would like to own a Corolla\n",
      "I would like to own a khota reery\n",
      "I would like to own a rolex\n",
      "I would like to own a Honda City\n"
     ]
    }
   ],
   "source": [
    "cars:list[str]=['Corolla','khota reery','rolex','Honda City']\n",
    "for car in cars:\n",
    " print(f\"I would like to own a {car}\")"
   ]
  },
  {
   "cell_type": "markdown",
   "metadata": {},
   "source": [
    "Question 4"
   ]
  },
  {
   "cell_type": "code",
   "execution_count": 9,
   "metadata": {},
   "outputs": [
    {
     "name": "stdout",
     "output_type": "stream",
     "text": [
      "Dear irtiza please come my home and taste my food\n",
      "Dear Ahad please come my home and taste my food\n",
      "Dear ayesha please come my home and taste my food\n",
      "Dear daniya please come my home and taste my food\n"
     ]
    }
   ],
   "source": [
    "guest:list[str]=['irtiza','Ahad','ayesha','daniya']\n",
    "for guests in guest:\n",
    " print(f\"Dear {guests} please come my home and taste my food\")"
   ]
  },
  {
   "cell_type": "markdown",
   "metadata": {},
   "source": [
    "Question 5"
   ]
  },
  {
   "cell_type": "code",
   "execution_count": 10,
   "metadata": {},
   "outputs": [
    {
     "name": "stdout",
     "output_type": "stream",
     "text": [
      "minahil i invited you tonight dinner\n",
      "alizay i invited you tonight dinner\n",
      "irtiza i invited you tonight dinner\n",
      "\n",
      "after new member:\n",
      "irtiza i dont invite you today this reason maina tumha nikal maraa dinner sai\n",
      "['minahil', 'alizay', 'ibrahm']\n",
      "minahil i invited you tonight dinner\n",
      "alizay i invited you tonight dinner\n",
      "ibrahm i invited you tonight dinner\n"
     ]
    }
   ],
   "source": [
    "guest:list[str]=['minahil','alizay','irtiza']\n",
    "message=\"i invited you tonight dinner\"\n",
    "for guest1 in guest:\n",
    "    print(f\"{guest1} {message}\")\n",
    "print(\"\\nafter new member:\")\n",
    "guest[2] =\"ibrahm\"\n",
    "print(\"irtiza i dont invite you today this reason maina tumha nikal maraa dinner sai\")\n",
    "print(guest)\n",
    "for guest1 in guest:\n",
    "    print(f\"{guest1} {message}\")"
   ]
  },
  {
   "cell_type": "code",
   "execution_count": 1,
   "metadata": {},
   "outputs": [],
   "source": [
    "fruits=(\" banana\" , \"apple\")"
   ]
  }
 ],
 "metadata": {
  "kernelspec": {
   "display_name": "Python 3",
   "language": "python",
   "name": "python3"
  },
  "language_info": {
   "codemirror_mode": {
    "name": "ipython",
    "version": 3
   },
   "file_extension": ".py",
   "mimetype": "text/x-python",
   "name": "python",
   "nbconvert_exporter": "python",
   "pygments_lexer": "ipython3",
   "version": "3.12.4"
  }
 },
 "nbformat": 4,
 "nbformat_minor": 2
}
