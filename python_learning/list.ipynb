{
 "cells": [
  {
   "cell_type": "markdown",
   "metadata": {},
   "source": [
    "Question 1"
   ]
  },
  {
   "cell_type": "code",
   "execution_count": 6,
   "metadata": {},
   "outputs": [
    {
     "name": "stdout",
     "output_type": "stream",
     "text": [
      "irtiza\n",
      "Ahad\n",
      "hassan\n",
      "asif\n"
     ]
    }
   ],
   "source": [
    "name:list[str]=['irtiza', 'Ahad', 'hassan', 'asif']\n",
    "print(name[0])\n",
    "print(name[1])\n",
    "print(name[2])\n",
    "print(name[3])"
   ]
  },
  {
   "cell_type": "markdown",
   "metadata": {},
   "source": [
    "Question 2"
   ]
  },
  {
   "cell_type": "code",
   "execution_count": 7,
   "metadata": {},
   "outputs": [
    {
     "name": "stdout",
     "output_type": "stream",
     "text": [
      "maira name irtiza hai\n",
      "maira name Ahad hai\n",
      "maira name hassan hai\n",
      "maira name asif hai\n"
     ]
    }
   ],
   "source": [
    "names:list[str]=['irtiza','Ahad','hassan','asif']\n",
    "for name in names:\n",
    " print(f\"maira name {name} hai\")"
   ]
  },
  {
   "cell_type": "markdown",
   "metadata": {},
   "source": [
    "Question 3"
   ]
  },
  {
   "cell_type": "code",
   "execution_count": 8,
   "metadata": {},
   "outputs": [
    {
     "name": "stdout",
     "output_type": "stream",
     "text": [
      "I would like to own a Corolla\n",
      "I would like to own a khota reery\n",
      "I would like to own a rolex\n",
      "I would like to own a Honda City\n"
     ]
    }
   ],
   "source": [
    "cars:list[str]=['Corolla','khota reery','rolex','Honda City']\n",
    "for car in cars:\n",
    " print(f\"I would like to own a {car}\")"
   ]
  },
  {
   "cell_type": "markdown",
   "metadata": {},
   "source": [
    "Question 4"
   ]
  },
  {
   "cell_type": "code",
   "execution_count": 9,
   "metadata": {},
   "outputs": [
    {
     "name": "stdout",
     "output_type": "stream",
     "text": [
      "Dear irtiza please come my home and taste my food\n",
      "Dear Ahad please come my home and taste my food\n",
      "Dear ayesha please come my home and taste my food\n",
      "Dear daniya please come my home and taste my food\n"
     ]
    }
   ],
   "source": [
    "guest:list[str]=['irtiza','Ahad','ayesha','daniya']\n",
    "for guests in guest:\n",
    " print(f\"Dear {guests} please come my home and taste my food\")"
   ]
  },
  {
   "cell_type": "markdown",
   "metadata": {},
   "source": [
    "Question 5"
   ]
  },
  {
   "cell_type": "code",
   "execution_count": 10,
   "metadata": {},
   "outputs": [
    {
     "name": "stdout",
     "output_type": "stream",
     "text": [
      "minahil i invited you tonight dinner\n",
      "alizay i invited you tonight dinner\n",
      "irtiza i invited you tonight dinner\n",
      "\n",
      "after new member:\n",
      "irtiza i dont invite you today this reason maina tumha nikal maraa dinner sai\n",
      "['minahil', 'alizay', 'ibrahm']\n",
      "minahil i invited you tonight dinner\n",
      "alizay i invited you tonight dinner\n",
      "ibrahm i invited you tonight dinner\n"
     ]
    }
   ],
   "source": [
    "guest:list[str]=['minahil','alizay','irtiza']\n",
    "message=\"i invited you tonight dinner\"\n",
    "for guest1 in guest:\n",
    "    print(f\"{guest1} {message}\")\n",
    "print(\"\\nafter new member:\")\n",
    "guest[2] =\"ibrahm\"\n",
    "print(\"irtiza i dont invite you today this reason maina tumha nikal maraa dinner sai\")\n",
    "print(guest)\n",
    "for guest1 in guest:\n",
    "    print(f\"{guest1} {message}\")"
   ]
  },
  {
   "cell_type": "markdown",
   "metadata": {},
   "source": [
    "Question 6"
   ]
  },
  {
   "cell_type": "code",
   "execution_count": 1,
   "metadata": {},
   "outputs": [
    {
     "name": "stdout",
     "output_type": "stream",
     "text": [
      "['Ahad', 'Mubashir', 'Muzamil']\n",
      "['Saif', 'Ahad', 'Mubashir', 'Muzamil']\n",
      "['Saif', 'Ahad', 'Abdullah', 'Mubashir', 'Muzamil']\n",
      "['Saif', 'Ahad', 'Abdullah', 'Mubashir', 'Muzamil', 'zainab']\n",
      "Saif i invite you tonight dinner\n",
      "Ahad i invite you tonight dinner\n",
      "Abdullah i invite you tonight dinner\n",
      "Mubashir i invite you tonight dinner\n",
      "Muzamil i invite you tonight dinner\n",
      "zainab i invite you tonight dinner\n"
     ]
    }
   ],
   "source": [
    "guest:list[str]=['Ahad','Mubashir','Muzamil']\n",
    "\n",
    "print(guest)\n",
    "\n",
    "guest.insert(0,\"Saif\")\n",
    "\n",
    "print(guest)\n",
    "\n",
    "guest.insert(2,\"Abdullah\")\n",
    "\n",
    "print(guest)\n",
    "\n",
    "guest.append(\"zainab\")\n",
    "\n",
    "print(guest)\n",
    "\n",
    "for guest1 in guest:\n",
    "\n",
    " print(f\"{guest1} i invite you tonight dinner\")\n"
   ]
  },
  {
   "cell_type": "markdown",
   "metadata": {},
   "source": [
    "Question no 7\n"
   ]
  },
  {
   "cell_type": "code",
   "execution_count": 4,
   "metadata": {},
   "outputs": [
    {
     "name": "stdout",
     "output_type": "stream",
     "text": [
      "['Ahad', 'Mubashir', 'Muzamil', 'Abdullah', 'Arslan']\n",
      "I can invite only two people of the dinner\n",
      "sorry ('Arslan', 'Abdullah', 'Muzamil') i can not invited them into the dinner\n",
      "['Ahad', 'Mubashir'] they still invited\n",
      "[] they have an empty list at the end of your program\n"
     ]
    }
   ],
   "source": [
    "guest:list[str]=['Ahad','Mubashir','Muzamil','Abdullah','Arslan']\n",
    "\n",
    "print(guest)\n",
    "\n",
    "print(\"I can invite only two people of the dinner\")\n",
    "\n",
    "guest1 = guest.pop()\n",
    "guest2 = guest.pop()\n",
    "guest3 = guest.pop()\n",
    "\n",
    "\n",
    "print(f\"sorry {guest1,guest2,guest3} i can not invited them into the dinner\")\n",
    "\n",
    "print(f\"{guest} they still invited\")\n",
    "del guest[0]\n",
    "del guest[0]\n",
    "\n",
    "print(f\"{guest} they have an empty list at the end of your program\")\n",
    "\n"
   ]
  },
  {
   "cell_type": "markdown",
   "metadata": {},
   "source": [
    "Question no 8"
   ]
  },
  {
   "cell_type": "code",
   "execution_count": 5,
   "metadata": {},
   "outputs": [
    {
     "name": "stdout",
     "output_type": "stream",
     "text": [
      "Original list :\n",
      "['lahore', 'karachi', 'multan', 'brooklyne', 'newyork']\n",
      "By using sorted method :\n",
      "['brooklyne', 'karachi', 'lahore', 'multan', 'newyork']\n",
      "By using reverse sorted method\n",
      "['newyork', 'multan', 'lahore', 'karachi', 'brooklyne']\n",
      "list is still in its original order :\n",
      "['lahore', 'karachi', 'multan', 'brooklyne', 'newyork']\n",
      "using reverse method :\n",
      "['newyork', 'brooklyne', 'multan', 'karachi', 'lahore']\n",
      "using reverse method again :\n",
      "['lahore', 'karachi', 'multan', 'brooklyne', 'newyork']\n",
      "original list print again:\n",
      "['lahore', 'karachi', 'multan', 'brooklyne', 'newyork']\n",
      "sorted list : \n",
      "['brooklyne', 'karachi', 'lahore', 'multan', 'newyork']\n"
     ]
    }
   ],
   "source": [
    "places:list[str]=['lahore','karachi','multan','brooklyne','newyork']\n",
    "print(\"Original list :\")\n",
    "print(places)\n",
    "print(\"By using sorted method :\")\n",
    "print(sorted(places))\n",
    "print(\"By using reverse sorted method\")\n",
    "print(sorted(places ,reverse=True))\n",
    "print(\"list is still in its original order :\")\n",
    "print(places)\n",
    "print(\"using reverse method :\")\n",
    "places.reverse()\n",
    "print(places)\n",
    "print(\"using reverse method again :\")\n",
    "places.reverse()\n",
    "print(places)\n",
    "print(\"original list print again:\")\n",
    "print(places)\n",
    "print(\"sorted list : \")\n",
    "print(sorted(places))\n"
   ]
  },
  {
   "cell_type": "markdown",
   "metadata": {},
   "source": [
    "Question no 9\n"
   ]
  },
  {
   "cell_type": "code",
   "execution_count": 12,
   "metadata": {},
   "outputs": [
    {
     "name": "stdout",
     "output_type": "stream",
     "text": [
      "Original list :\n",
      "['lahore', 'karachi', 'multan', 'brooklyne', 'newyork']\n",
      "By using sorted method :\n",
      "['brooklyne', 'karachi', 'lahore', 'multan', 'newyork']\n",
      "By using reverse sorted method\n",
      "['newyork', 'multan', 'lahore', 'karachi', 'brooklyne']\n",
      "list is still in its original order :\n",
      "['lahore', 'karachi', 'multan', 'brooklyne', 'newyork']\n",
      "using reverse method :\n",
      "['newyork', 'brooklyne', 'multan', 'karachi', 'lahore']\n",
      "using reverse method again :\n",
      "['lahore', 'karachi', 'multan', 'brooklyne', 'newyork']\n",
      "original list print again:\n",
      "['lahore', 'karachi', 'multan', 'brooklyne', 'newyork']\n",
      "sorted list : \n",
      "['brooklyne', 'karachi', 'lahore', 'multan', 'newyork']\n",
      "['lahore', 'sahiwal', 'badami bagh', 'jallo moor', 'multan']\n",
      "9 del method\n",
      "\n",
      "10 count method\n",
      "['lahore', 'sahiwal', 'jallo moor', 'multan']\n",
      "11 index method\n",
      "['lahore', 'sahiwal', 'jallo moor', 'multan']\n",
      "12 copy method\n",
      "['lahore', 'sahiwal', 'jallo moor', 'multan']\n",
      "13 clear method\n",
      "[]\n",
      "extend method\n",
      "[3]\n"
     ]
    }
   ],
   "source": [
    "places:list[str]=['lahore','karachi','multan','brooklyne','newyork']\n",
    "print(\"Original list :\")\n",
    "print(places)\n",
    "print(\"By using sorted method :\")\n",
    "print(sorted(places))\n",
    "print(\"By using reverse sorted method\")\n",
    "print(sorted(places ,reverse=True))\n",
    "print(\"list is still in its original order :\")\n",
    "print(places)\n",
    "print(\"using reverse method :\")\n",
    "places.reverse()\n",
    "print(places)\n",
    "print(\"using reverse method again :\")\n",
    "places.reverse()\n",
    "print(places)\n",
    "print(\"original list print again:\")\n",
    "print(places)\n",
    "print(\"sorted list : \")\n",
    "print(sorted(places))\n",
    "cities:list[str]=['lahore','sahiwal','badami bagh','jallo moor','Daroghawala','multan']\n",
    "cities.remove(\"Daroghawala\")\n",
    "print(cities)\n",
    "print(\"9 del method\")\n",
    "del cities[2]\n",
    "print()\n",
    "print(\"10 count method\")\n",
    "cities.count(3)\n",
    "print(cities)\n",
    "print(\"11 index method\")\n",
    "cities.index(\"multan\")\n",
    "print(cities)\n",
    "print(\"12 copy method\")\n",
    "cities.copy()\n",
    "print(cities)\n",
    "print(\"13 clear method\")\n",
    "cities.clear()\n",
    "print(cities)\n",
    "print(\"extend method\")\n",
    "cities.extend([3])\n",
    "print(cities)\n"
   ]
  },
  {
   "cell_type": "markdown",
   "metadata": {},
   "source": [
    "Question 10\n"
   ]
  },
  {
   "cell_type": "code",
   "execution_count": 16,
   "metadata": {},
   "outputs": [
    {
     "ename": "IndexError",
     "evalue": "list index out of range",
     "output_type": "error",
     "traceback": [
      "\u001b[1;31m---------------------------------------------------------------------------\u001b[0m",
      "\u001b[1;31mIndexError\u001b[0m                                Traceback (most recent call last)",
      "Cell \u001b[1;32mIn[16], line 2\u001b[0m\n\u001b[0;32m      1\u001b[0m city:\u001b[38;5;28mlist\u001b[39m[\u001b[38;5;28mstr\u001b[39m]\u001b[38;5;241m=\u001b[39m[\u001b[38;5;124m'\u001b[39m\u001b[38;5;124mlahore\u001b[39m\u001b[38;5;124m'\u001b[39m,\u001b[38;5;124m'\u001b[39m\u001b[38;5;124msahiwal\u001b[39m\u001b[38;5;124m'\u001b[39m,\u001b[38;5;124m'\u001b[39m\u001b[38;5;124mbadami bagh\u001b[39m\u001b[38;5;124m'\u001b[39m,\u001b[38;5;124m'\u001b[39m\u001b[38;5;124mjallo moor\u001b[39m\u001b[38;5;124m'\u001b[39m]\n\u001b[1;32m----> 2\u001b[0m \u001b[38;5;28mprint\u001b[39m(\u001b[43mcity\u001b[49m\u001b[43m[\u001b[49m\u001b[38;5;241;43m4\u001b[39;49m\u001b[43m]\u001b[49m)\n",
      "\u001b[1;31mIndexError\u001b[0m: list index out of range"
     ]
    }
   ],
   "source": [
    "city:list[str]=['lahore','sahiwal','badami bagh','jallo moor']\n",
    "print(city[4])"
   ]
  }
 ],
 "metadata": {
  "kernelspec": {
   "display_name": "Python 3",
   "language": "python",
   "name": "python3"
  },
  "language_info": {
   "codemirror_mode": {
    "name": "ipython",
    "version": 3
   },
   "file_extension": ".py",
   "mimetype": "text/x-python",
   "name": "python",
   "nbconvert_exporter": "python",
   "pygments_lexer": "ipython3",
   "version": "3.12.4"
  }
 },
 "nbformat": 4,
 "nbformat_minor": 2
}
