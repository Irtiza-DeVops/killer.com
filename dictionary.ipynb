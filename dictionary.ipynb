{
 "cells": [
  {
   "cell_type": "code",
   "execution_count": 9,
   "metadata": {},
   "outputs": [
    {
     "name": "stdout",
     "output_type": "stream",
     "text": [
      "{'A': 'apple', 'B': 'cherry', 6: 'yalla habibi'}\n"
     ]
    }
   ],
   "source": [
    "fruits:dict={'A':'apple','B':'cherry',6:'yalla habibi'}\n",
    "print(fruits)\n",
    "\n",
    "       "
   ]
  },
  {
   "cell_type": "code",
   "execution_count": 10,
   "metadata": {},
   "outputs": [
    {
     "data": {
      "text/plain": [
       "'ali'"
      ]
     },
     "execution_count": 10,
     "metadata": {},
     "output_type": "execute_result"
    }
   ],
   "source": [
    "results={20:'irtiza',30:'zaryan',40:'ali'}\n",
    "results.get(40)"
   ]
  },
  {
   "cell_type": "code",
   "execution_count": 11,
   "metadata": {},
   "outputs": [
    {
     "name": "stdout",
     "output_type": "stream",
     "text": [
      "[(20, 'irtiza'), (30, 'zaryan'), (40, 'ali')]\n"
     ]
    }
   ],
   "source": [
    "results={20:'irtiza',30:'zaryan',40:'ali'}\n",
    "# x=list(results.items())  this is list\n",
    "# print(x)"
   ]
  },
  {
   "cell_type": "code",
   "execution_count": 13,
   "metadata": {},
   "outputs": [
    {
     "name": "stdout",
     "output_type": "stream",
     "text": [
      "(30, 'zaryan')\n",
      "(20, 'irtiza')\n",
      "(30, 'zaryan')\n",
      "(40, 'ali')\n"
     ]
    }
   ],
   "source": [
    "\n",
    "for x in results.items():\n",
    "    print(x)"
   ]
  },
  {
   "cell_type": "code",
   "execution_count": 14,
   "metadata": {},
   "outputs": [
    {
     "name": "stdout",
     "output_type": "stream",
     "text": [
      "20::irtiza\n",
      "30::zaryan\n",
      "40::ali\n"
     ]
    }
   ],
   "source": [
    "# storing index and name seperately\n",
    "for i,x in results.items():\n",
    "    print(f'{i}::{x}')\n",
    "    \n"
   ]
  }
 ],
 "metadata": {
  "kernelspec": {
   "display_name": "Python 3",
   "language": "python",
   "name": "python3"
  },
  "language_info": {
   "codemirror_mode": {
    "name": "ipython",
    "version": 3
   },
   "file_extension": ".py",
   "mimetype": "text/x-python",
   "name": "python",
   "nbconvert_exporter": "python",
   "pygments_lexer": "ipython3",
   "version": "3.12.4"
  }
 },
 "nbformat": 4,
 "nbformat_minor": 2
}
