{
 "cells": [
  {
   "cell_type": "markdown",
   "metadata": {},
   "source": [
    "loops\n"
   ]
  },
  {
   "cell_type": "code",
   "execution_count": 9,
   "metadata": {},
   "outputs": [
    {
     "name": "stdout",
     "output_type": "stream",
     "text": [
      "120\n"
     ]
    }
   ],
   "source": [
    "u=int(input('Enter your number:'))\n",
    "f=1\n",
    "for i in range(1,u+1):\n",
    "    f*=i\n",
    "print(f)\n"
   ]
  },
  {
   "cell_type": "code",
   "execution_count": 10,
   "metadata": {},
   "outputs": [
    {
     "name": "stdout",
     "output_type": "stream",
     "text": [
      " the total sum is equal to 6\n"
     ]
    }
   ],
   "source": [
    "sum_1=int(input('enter your first number :'))\n",
    "sum_2=int(input('enter your second number:'))\n",
    "sum = (sum_1 + sum_2)\n",
    "print(f\" the total sum is equal to {sum}\")\n"
   ]
  },
  {
   "cell_type": "code",
   "execution_count": 11,
   "metadata": {},
   "outputs": [
    {
     "name": "stdout",
     "output_type": "stream",
     "text": [
      "my favourite animal is also :cow\n"
     ]
    }
   ],
   "source": [
    "num_1=input(\"what your favourite animal?\")\n",
    "print(f\"my favourite animal is also :{num_1}\")"
   ]
  },
  {
   "cell_type": "code",
   "execution_count": 1,
   "metadata": {},
   "outputs": [
    {
     "name": "stdout",
     "output_type": "stream",
     "text": [
      "43.0 degrees Fahrenheit is equal to 6.111111111111111 degrees Celsius\n"
     ]
    }
   ],
   "source": [
    "\n",
    "degrees_fahrenheit = float(input(\"Enter temperature in Fahrenheit: \"))\n",
    "degrees_celsius = (degrees_fahrenheit - 32) * 5.0/9.0\n",
    "print(f\"{degrees_fahrenheit} degrees Fahrenheit is equal to {degrees_celsius} degrees Celsius\")\n"
   ]
  },
  {
   "cell_type": "code",
   "execution_count": 2,
   "metadata": {},
   "outputs": [
    {
     "name": "stdout",
     "output_type": "stream",
     "text": [
      "1\n",
      "2\n",
      "3\n",
      "4\n",
      "6\n"
     ]
    }
   ],
   "source": [
    "for x in [1,2,3,4,5,6]:\n",
    "    if x==5:\n",
    "      continue\n",
    "    print(x)"
   ]
  },
  {
   "cell_type": "code",
   "execution_count": 3,
   "metadata": {},
   "outputs": [
    {
     "name": "stdout",
     "output_type": "stream",
     "text": [
      "Value of i : 13\n"
     ]
    }
   ],
   "source": [
    "a = 'geeksforgeeks'\n",
    "i = 0\n",
    "\n",
    "while i < len(a):\n",
    "    i += 1\n",
    "    pass\n",
    "  \n",
    "print('Value of i :', i)"
   ]
  }
 ],
 "metadata": {
  "kernelspec": {
   "display_name": "Python 3",
   "language": "python",
   "name": "python3"
  },
  "language_info": {
   "codemirror_mode": {
    "name": "ipython",
    "version": 3
   },
   "file_extension": ".py",
   "mimetype": "text/x-python",
   "name": "python",
   "nbconvert_exporter": "python",
   "pygments_lexer": "ipython3",
   "version": "3.12.4"
  }
 },
 "nbformat": 4,
 "nbformat_minor": 2
}
