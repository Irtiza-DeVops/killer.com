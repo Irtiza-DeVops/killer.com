{
 "cells": [
  {
   "cell_type": "markdown",
   "metadata": {},
   "source": []
  },
  {
   "cell_type": "code",
   "execution_count": 9,
   "metadata": {},
   "outputs": [
    {
     "name": "stdout",
     "output_type": "stream",
     "text": [
      "120\n"
     ]
    }
   ],
   "source": [
    "u=int(input('Enter your number:'))\n",
    "f=1\n",
    "for i in range(1,u+1):\n",
    "    f*=i\n",
    "print(f)\n"
   ]
  },
  {
   "cell_type": "code",
   "execution_count": 10,
   "metadata": {},
   "outputs": [
    {
     "name": "stdout",
     "output_type": "stream",
     "text": [
      " the total sum is equal to 6\n"
     ]
    }
   ],
   "source": [
    "sum_1=int(input('enter your first number :'))\n",
    "sum_2=int(input('enter your second number:'))\n",
    "sum = (sum_1 + sum_2)\n",
    "print(f\" the total sum is equal to {sum}\")\n"
   ]
  },
  {
   "cell_type": "code",
   "execution_count": 11,
   "metadata": {},
   "outputs": [
    {
     "name": "stdout",
     "output_type": "stream",
     "text": [
      "my favourite animal is also :cow\n"
     ]
    }
   ],
   "source": [
    "num_1=input(\"what your favourite animal?\")\n",
    "print(f\"my favourite animal is also :{num_1}\")"
   ]
  },
  {
   "cell_type": "code",
   "execution_count": 1,
   "metadata": {},
   "outputs": [
    {
     "name": "stdout",
     "output_type": "stream",
     "text": [
      "43.0 degrees Fahrenheit is equal to 6.111111111111111 degrees Celsius\n"
     ]
    }
   ],
   "source": [
    "\n",
    "degrees_fahrenheit = float(input(\"Enter temperature in Fahrenheit: \"))\n",
    "degrees_celsius = (degrees_fahrenheit - 32) * 5.0/9.0\n",
    "print(f\"{degrees_fahrenheit} degrees Fahrenheit is equal to {degrees_celsius} degrees Celsius\")\n"
   ]
  }
 ],
 "metadata": {
  "kernelspec": {
   "display_name": "Python 3",
   "language": "python",
   "name": "python3"
  },
  "language_info": {
   "codemirror_mode": {
    "name": "ipython",
    "version": 3
   },
   "file_extension": ".py",
   "mimetype": "text/x-python",
   "name": "python",
   "nbconvert_exporter": "python",
   "pygments_lexer": "ipython3",
   "version": "3.12.4"
  }
 },
 "nbformat": 4,
 "nbformat_minor": 2
}
