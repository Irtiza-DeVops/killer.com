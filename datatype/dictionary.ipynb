{
 "cells": [
  {
   "cell_type": "code",
   "execution_count": 2,
   "metadata": {},
   "outputs": [
    {
     "name": "stdout",
     "output_type": "stream",
     "text": [
      "{'A': 'apple', 'B': 'cherry', 6: 'yalla habibi'}\n"
     ]
    }
   ],
   "source": [
    "fruits:dict={'A':'apple','B':'cherry',6:'yalla habibi'}\n",
    "print(fruits)\n",
    "\n",
    "       "
   ]
  },
  {
   "cell_type": "markdown",
   "metadata": {},
   "source": [
    "importing dict from library"
   ]
  },
  {
   "cell_type": "code",
   "execution_count": 3,
   "metadata": {},
   "outputs": [],
   "source": [
    "from typing import Dict\n"
   ]
  },
  {
   "cell_type": "code",
   "execution_count": 4,
   "metadata": {},
   "outputs": [
    {
     "data": {
      "text/plain": [
       "'ali'"
      ]
     },
     "execution_count": 4,
     "metadata": {},
     "output_type": "execute_result"
    }
   ],
   "source": [
    "results={20:'irtiza',30:'zaryan',40:'ali'}\n",
    "results.get(40)"
   ]
  },
  {
   "cell_type": "code",
   "execution_count": 5,
   "metadata": {},
   "outputs": [],
   "source": [
    "results={20:'irtiza',30:'zaryan',40:'ali'}\n",
    "# x=list(results.items())  this is list\n",
    "# print(x)"
   ]
  },
  {
   "cell_type": "code",
   "execution_count": 6,
   "metadata": {},
   "outputs": [
    {
     "name": "stdout",
     "output_type": "stream",
     "text": [
      "(20, 'irtiza')\n",
      "(30, 'zaryan')\n",
      "(40, 'ali')\n"
     ]
    }
   ],
   "source": [
    "\n",
    "for x in results.items():\n",
    "    print(x)"
   ]
  },
  {
   "cell_type": "code",
   "execution_count": 7,
   "metadata": {},
   "outputs": [
    {
     "name": "stdout",
     "output_type": "stream",
     "text": [
      "20::irtiza\n",
      "30::zaryan\n",
      "40::ali\n"
     ]
    }
   ],
   "source": [
    "# storing index and name seperately\n",
    "for i,x in results.items():\n",
    "    print(f'{i}::{x}')\n",
    "    \n"
   ]
  },
  {
   "cell_type": "code",
   "execution_count": 1,
   "metadata": {},
   "outputs": [
    {
     "name": "stdout",
     "output_type": "stream",
     "text": [
      "{}\n"
     ]
    }
   ],
   "source": [
    "d={20:'irtiza',30:'zaryan',40:'ali'}\n",
    "d.clear()\n",
    "print(d)"
   ]
  },
  {
   "cell_type": "code",
   "execution_count": 2,
   "metadata": {},
   "outputs": [
    {
     "name": "stdout",
     "output_type": "stream",
     "text": [
      "irtiza\n",
      "None none\n"
     ]
    }
   ],
   "source": [
    "d={20:'irtiza',30:'zaryan',40:'ali'}\n",
    "print(d.get(20))\n",
    "print(d.get(78),('none'))"
   ]
  },
  {
   "cell_type": "code",
   "execution_count": 4,
   "metadata": {},
   "outputs": [
    {
     "name": "stdout",
     "output_type": "stream",
     "text": [
      "['irtiza', 'zaryan', 'ali']\n"
     ]
    }
   ],
   "source": [
    "d={20:'irtiza',30:'zaryan',40:'ali'}\n",
    "print(list(d.values()))"
   ]
  },
  {
   "cell_type": "code",
   "execution_count": 8,
   "metadata": {},
   "outputs": [
    {
     "name": "stdout",
     "output_type": "stream",
     "text": [
      "20\n"
     ]
    }
   ],
   "source": [
    "d={20:'irtiza',30:'zaryan',40:'ali'}\n",
    "print(list(d.items())[0][0])"
   ]
  },
  {
   "cell_type": "code",
   "execution_count": 10,
   "metadata": {},
   "outputs": [
    {
     "name": "stdout",
     "output_type": "stream",
     "text": [
      "[20, 30, 40]\n"
     ]
    }
   ],
   "source": [
    "d={20:'irtiza',30:'zaryan',40:'ali'}\n",
    "print(list(d.keys()))"
   ]
  },
  {
   "cell_type": "code",
   "execution_count": 17,
   "metadata": {},
   "outputs": [
    {
     "name": "stdout",
     "output_type": "stream",
     "text": [
      "{'name': 'neha'}\n"
     ]
    }
   ],
   "source": [
    "d1={'name':'irtiza'}\n",
    "d2={'name':\"neha\"}\n",
    "d1.update(d2)\n",
    "print(d1)"
   ]
  },
  {
   "cell_type": "code",
   "execution_count": 18,
   "metadata": {},
   "outputs": [
    {
     "name": "stdout",
     "output_type": "stream",
     "text": [
      "{20: 'irtiza', 30: 'zaryan'}\n"
     ]
    }
   ],
   "source": [
    "d={20:'irtiza',30:'zaryan',40:'ali'}\n",
    "d.pop(40)\n",
    "print(d)"
   ]
  },
  {
   "cell_type": "code",
   "execution_count": 19,
   "metadata": {},
   "outputs": [
    {
     "name": "stdout",
     "output_type": "stream",
     "text": [
      "{20: 'irtiza', 30: 'zaryan'}\n"
     ]
    }
   ],
   "source": [
    "d={20:'irtiza',30:'zaryan',40:'ali'}\n",
    "d.popitem()\n",
    "print(d)"
   ]
  },
  {
   "cell_type": "code",
   "execution_count": 20,
   "metadata": {},
   "outputs": [
    {
     "name": "stdout",
     "output_type": "stream",
     "text": [
      "20 irtiza\n",
      "30 zaryan\n",
      "40 ali\n"
     ]
    }
   ],
   "source": [
    "d={20:'irtiza',30:'zaryan',40:'ali'}\n",
    "for key in d:\n",
    "    print(key,d[key])\n",
    "    \n"
   ]
  }
 ],
 "metadata": {
  "kernelspec": {
   "display_name": "Python 3",
   "language": "python",
   "name": "python3"
  },
  "language_info": {
   "codemirror_mode": {
    "name": "ipython",
    "version": 3
   },
   "file_extension": ".py",
   "mimetype": "text/x-python",
   "name": "python",
   "nbconvert_exporter": "python",
   "pygments_lexer": "ipython3",
   "version": "3.12.4"
  }
 },
 "nbformat": 4,
 "nbformat_minor": 2
}
