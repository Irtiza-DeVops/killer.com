{
 "cells": [
  {
   "cell_type": "markdown",
   "metadata": {},
   "source": [
    "LAMBDA (lambda)\n",
    "\n"
   ]
  },
  {
   "cell_type": "code",
   "execution_count": 40,
   "metadata": {},
   "outputs": [
    {
     "data": {
      "text/plain": [
       "{'name': 'ali', 'age': 25, 'city': 'lahore'}"
      ]
     },
     "execution_count": 40,
     "metadata": {},
     "output_type": "execute_result"
    }
   ],
   "source": [
    "# add=lambda a=2, b=4 : a+b\n",
    "# add(a=6,b=5)\n",
    "\n",
    "# def sum(a,b,c,d)-> int:\n",
    "#     return a+b+c+d\n",
    "# sum(1,2,4,7)\n",
    "# def add1(*a)->int:\n",
    "#     total =0\n",
    "#     for n in a:\n",
    "#         total=total+n\n",
    "#     return total\n",
    "    \n",
    "# add1(3,95,6,8.9,89,8,2013)\n",
    "\n",
    "# SINGLE *\n",
    "# def hello(*a):\n",
    "#     return a\n",
    "# hello('hello','ali','irtiza','kachra:uz')\n",
    "# DOUBLR STEARIC**\n",
    "def hello(**a):\n",
    "    return a\n",
    "hello(name='ali',age=25,city='lahore')\n",
    "\n",
    "\n",
    "\n"
   ]
  },
  {
   "cell_type": "code",
   "execution_count": 48,
   "metadata": {},
   "outputs": [
    {
     "data": {
      "text/plain": [
       "{'name': 'irtiza', 'class1': 10, 'age': 15}"
      ]
     },
     "execution_count": 48,
     "metadata": {},
     "output_type": "execute_result"
    }
   ],
   "source": [
    "def hope(**record):\n",
    "    return record\n",
    "hope(name='irtiza',class1=10,age=15)\n",
    "\n"
   ]
  }
 ],
 "metadata": {
  "kernelspec": {
   "display_name": "Python 3",
   "language": "python",
   "name": "python3"
  },
  "language_info": {
   "codemirror_mode": {
    "name": "ipython",
    "version": 3
   },
   "file_extension": ".py",
   "mimetype": "text/x-python",
   "name": "python",
   "nbconvert_exporter": "python",
   "pygments_lexer": "ipython3",
   "version": "3.12.4"
  }
 },
 "nbformat": 4,
 "nbformat_minor": 2
}
